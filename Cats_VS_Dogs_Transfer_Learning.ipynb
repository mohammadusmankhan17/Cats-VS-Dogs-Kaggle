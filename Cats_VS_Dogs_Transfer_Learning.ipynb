{
  "nbformat": 4,
  "nbformat_minor": 0,
  "metadata": {
    "colab": {
      "name": "Cats VS Dogs Transfer Learning.ipynb",
      "provenance": []
    },
    "kernelspec": {
      "name": "python3",
      "display_name": "Python 3"
    },
    "language_info": {
      "name": "python"
    },
    "accelerator": "GPU"
  },
  "cells": [
    {
      "cell_type": "code",
      "metadata": {
        "colab": {
          "base_uri": "https://localhost:8080/"
        },
        "id": "2Du725JpiC2C",
        "outputId": "abc988f4-85b5-4cdc-c9f2-e7954b4b24b6"
      },
      "source": [
        "!pip install tensorflow==2.1"
      ],
      "execution_count": null,
      "outputs": [
        {
          "output_type": "stream",
          "text": [
            "Collecting tensorflow==2.1\n",
            "  Downloading tensorflow-2.1.0-cp37-cp37m-manylinux2010_x86_64.whl (421.8 MB)\n",
            "\u001b[K     |████████████████████████████████| 421.8 MB 25 kB/s \n",
            "\u001b[?25hRequirement already satisfied: keras-preprocessing>=1.1.0 in /usr/local/lib/python3.7/dist-packages (from tensorflow==2.1) (1.1.2)\n",
            "Requirement already satisfied: grpcio>=1.8.6 in /usr/local/lib/python3.7/dist-packages (from tensorflow==2.1) (1.39.0)\n",
            "Requirement already satisfied: six>=1.12.0 in /usr/local/lib/python3.7/dist-packages (from tensorflow==2.1) (1.15.0)\n",
            "Requirement already satisfied: numpy<2.0,>=1.16.0 in /usr/local/lib/python3.7/dist-packages (from tensorflow==2.1) (1.19.5)\n",
            "Requirement already satisfied: scipy==1.4.1 in /usr/local/lib/python3.7/dist-packages (from tensorflow==2.1) (1.4.1)\n",
            "Requirement already satisfied: google-pasta>=0.1.6 in /usr/local/lib/python3.7/dist-packages (from tensorflow==2.1) (0.2.0)\n",
            "Collecting gast==0.2.2\n",
            "  Downloading gast-0.2.2.tar.gz (10 kB)\n",
            "Requirement already satisfied: absl-py>=0.7.0 in /usr/local/lib/python3.7/dist-packages (from tensorflow==2.1) (0.12.0)\n",
            "Collecting tensorboard<2.2.0,>=2.1.0\n",
            "  Downloading tensorboard-2.1.1-py3-none-any.whl (3.8 MB)\n",
            "\u001b[K     |████████████████████████████████| 3.8 MB 36.3 MB/s \n",
            "\u001b[?25hCollecting tensorflow-estimator<2.2.0,>=2.1.0rc0\n",
            "  Downloading tensorflow_estimator-2.1.0-py2.py3-none-any.whl (448 kB)\n",
            "\u001b[K     |████████████████████████████████| 448 kB 40.5 MB/s \n",
            "\u001b[?25hRequirement already satisfied: wheel>=0.26 in /usr/local/lib/python3.7/dist-packages (from tensorflow==2.1) (0.37.0)\n",
            "Requirement already satisfied: termcolor>=1.1.0 in /usr/local/lib/python3.7/dist-packages (from tensorflow==2.1) (1.1.0)\n",
            "Requirement already satisfied: wrapt>=1.11.1 in /usr/local/lib/python3.7/dist-packages (from tensorflow==2.1) (1.12.1)\n",
            "Requirement already satisfied: astor>=0.6.0 in /usr/local/lib/python3.7/dist-packages (from tensorflow==2.1) (0.8.1)\n",
            "Collecting keras-applications>=1.0.8\n",
            "  Downloading Keras_Applications-1.0.8-py3-none-any.whl (50 kB)\n",
            "\u001b[K     |████████████████████████████████| 50 kB 7.0 MB/s \n",
            "\u001b[?25hRequirement already satisfied: opt-einsum>=2.3.2 in /usr/local/lib/python3.7/dist-packages (from tensorflow==2.1) (3.3.0)\n",
            "Requirement already satisfied: protobuf>=3.8.0 in /usr/local/lib/python3.7/dist-packages (from tensorflow==2.1) (3.17.3)\n",
            "Requirement already satisfied: h5py in /usr/local/lib/python3.7/dist-packages (from keras-applications>=1.0.8->tensorflow==2.1) (3.1.0)\n",
            "Requirement already satisfied: werkzeug>=0.11.15 in /usr/local/lib/python3.7/dist-packages (from tensorboard<2.2.0,>=2.1.0->tensorflow==2.1) (1.0.1)\n",
            "Requirement already satisfied: setuptools>=41.0.0 in /usr/local/lib/python3.7/dist-packages (from tensorboard<2.2.0,>=2.1.0->tensorflow==2.1) (57.4.0)\n",
            "Requirement already satisfied: google-auth-oauthlib<0.5,>=0.4.1 in /usr/local/lib/python3.7/dist-packages (from tensorboard<2.2.0,>=2.1.0->tensorflow==2.1) (0.4.5)\n",
            "Requirement already satisfied: requests<3,>=2.21.0 in /usr/local/lib/python3.7/dist-packages (from tensorboard<2.2.0,>=2.1.0->tensorflow==2.1) (2.23.0)\n",
            "Requirement already satisfied: google-auth<2,>=1.6.3 in /usr/local/lib/python3.7/dist-packages (from tensorboard<2.2.0,>=2.1.0->tensorflow==2.1) (1.34.0)\n",
            "Requirement already satisfied: markdown>=2.6.8 in /usr/local/lib/python3.7/dist-packages (from tensorboard<2.2.0,>=2.1.0->tensorflow==2.1) (3.3.4)\n",
            "Requirement already satisfied: rsa<5,>=3.1.4 in /usr/local/lib/python3.7/dist-packages (from google-auth<2,>=1.6.3->tensorboard<2.2.0,>=2.1.0->tensorflow==2.1) (4.7.2)\n",
            "Requirement already satisfied: cachetools<5.0,>=2.0.0 in /usr/local/lib/python3.7/dist-packages (from google-auth<2,>=1.6.3->tensorboard<2.2.0,>=2.1.0->tensorflow==2.1) (4.2.2)\n",
            "Requirement already satisfied: pyasn1-modules>=0.2.1 in /usr/local/lib/python3.7/dist-packages (from google-auth<2,>=1.6.3->tensorboard<2.2.0,>=2.1.0->tensorflow==2.1) (0.2.8)\n",
            "Requirement already satisfied: requests-oauthlib>=0.7.0 in /usr/local/lib/python3.7/dist-packages (from google-auth-oauthlib<0.5,>=0.4.1->tensorboard<2.2.0,>=2.1.0->tensorflow==2.1) (1.3.0)\n",
            "Requirement already satisfied: importlib-metadata in /usr/local/lib/python3.7/dist-packages (from markdown>=2.6.8->tensorboard<2.2.0,>=2.1.0->tensorflow==2.1) (4.6.3)\n",
            "Requirement already satisfied: pyasn1<0.5.0,>=0.4.6 in /usr/local/lib/python3.7/dist-packages (from pyasn1-modules>=0.2.1->google-auth<2,>=1.6.3->tensorboard<2.2.0,>=2.1.0->tensorflow==2.1) (0.4.8)\n",
            "Requirement already satisfied: idna<3,>=2.5 in /usr/local/lib/python3.7/dist-packages (from requests<3,>=2.21.0->tensorboard<2.2.0,>=2.1.0->tensorflow==2.1) (2.10)\n",
            "Requirement already satisfied: urllib3!=1.25.0,!=1.25.1,<1.26,>=1.21.1 in /usr/local/lib/python3.7/dist-packages (from requests<3,>=2.21.0->tensorboard<2.2.0,>=2.1.0->tensorflow==2.1) (1.24.3)\n",
            "Requirement already satisfied: certifi>=2017.4.17 in /usr/local/lib/python3.7/dist-packages (from requests<3,>=2.21.0->tensorboard<2.2.0,>=2.1.0->tensorflow==2.1) (2021.5.30)\n",
            "Requirement already satisfied: chardet<4,>=3.0.2 in /usr/local/lib/python3.7/dist-packages (from requests<3,>=2.21.0->tensorboard<2.2.0,>=2.1.0->tensorflow==2.1) (3.0.4)\n",
            "Requirement already satisfied: oauthlib>=3.0.0 in /usr/local/lib/python3.7/dist-packages (from requests-oauthlib>=0.7.0->google-auth-oauthlib<0.5,>=0.4.1->tensorboard<2.2.0,>=2.1.0->tensorflow==2.1) (3.1.1)\n",
            "Requirement already satisfied: cached-property in /usr/local/lib/python3.7/dist-packages (from h5py->keras-applications>=1.0.8->tensorflow==2.1) (1.5.2)\n",
            "Requirement already satisfied: typing-extensions>=3.6.4 in /usr/local/lib/python3.7/dist-packages (from importlib-metadata->markdown>=2.6.8->tensorboard<2.2.0,>=2.1.0->tensorflow==2.1) (3.7.4.3)\n",
            "Requirement already satisfied: zipp>=0.5 in /usr/local/lib/python3.7/dist-packages (from importlib-metadata->markdown>=2.6.8->tensorboard<2.2.0,>=2.1.0->tensorflow==2.1) (3.5.0)\n",
            "Building wheels for collected packages: gast\n",
            "  Building wheel for gast (setup.py) ... \u001b[?25l\u001b[?25hdone\n",
            "  Created wheel for gast: filename=gast-0.2.2-py3-none-any.whl size=7554 sha256=62c87ddf1d011c7c4686b5cc11c9680e11ec01e3ee2da9a17eefba655bcf4dd4\n",
            "  Stored in directory: /root/.cache/pip/wheels/21/7f/02/420f32a803f7d0967b48dd823da3f558c5166991bfd204eef3\n",
            "Successfully built gast\n",
            "Installing collected packages: tensorflow-estimator, tensorboard, keras-applications, gast, tensorflow\n",
            "  Attempting uninstall: tensorflow-estimator\n",
            "    Found existing installation: tensorflow-estimator 2.6.0\n",
            "    Uninstalling tensorflow-estimator-2.6.0:\n",
            "      Successfully uninstalled tensorflow-estimator-2.6.0\n",
            "  Attempting uninstall: tensorboard\n",
            "    Found existing installation: tensorboard 2.6.0\n",
            "    Uninstalling tensorboard-2.6.0:\n",
            "      Successfully uninstalled tensorboard-2.6.0\n",
            "  Attempting uninstall: gast\n",
            "    Found existing installation: gast 0.4.0\n",
            "    Uninstalling gast-0.4.0:\n",
            "      Successfully uninstalled gast-0.4.0\n",
            "  Attempting uninstall: tensorflow\n",
            "    Found existing installation: tensorflow 2.6.0\n",
            "    Uninstalling tensorflow-2.6.0:\n",
            "      Successfully uninstalled tensorflow-2.6.0\n",
            "\u001b[31mERROR: pip's dependency resolver does not currently take into account all the packages that are installed. This behaviour is the source of the following dependency conflicts.\n",
            "tensorflow-probability 0.13.0 requires gast>=0.3.2, but you have gast 0.2.2 which is incompatible.\u001b[0m\n",
            "Successfully installed gast-0.2.2 keras-applications-1.0.8 tensorboard-2.1.1 tensorflow-2.1.0 tensorflow-estimator-2.1.0\n"
          ],
          "name": "stdout"
        }
      ]
    },
    {
      "cell_type": "code",
      "metadata": {
        "colab": {
          "base_uri": "https://localhost:8080/"
        },
        "id": "F2_8vSXpkNHh",
        "outputId": "f36acfdd-65ad-467a-afc1-4284c6734f55"
      },
      "source": [
        "from google.colab import drive\n",
        "drive.mount('/content/drive')"
      ],
      "execution_count": null,
      "outputs": [
        {
          "output_type": "stream",
          "text": [
            "Mounted at /content/drive\n"
          ],
          "name": "stdout"
        }
      ]
    },
    {
      "cell_type": "code",
      "metadata": {
        "colab": {
          "base_uri": "https://localhost:8080/"
        },
        "id": "Rng8W5VUkxG0",
        "outputId": "dbd10018-1083-461a-ced8-ed0792a65799"
      },
      "source": [
        "!ls /content/drive/MyDrive/cats_and_dogs_small"
      ],
      "execution_count": null,
      "outputs": [
        {
          "output_type": "stream",
          "text": [
            "test  train  validation\n"
          ],
          "name": "stdout"
        }
      ]
    },
    {
      "cell_type": "code",
      "metadata": {
        "id": "yoY1qRmZk7Wi"
      },
      "source": [
        "import os, shutil"
      ],
      "execution_count": null,
      "outputs": []
    },
    {
      "cell_type": "code",
      "metadata": {
        "id": "3w2RtVeXk-sL"
      },
      "source": [
        "train_cats_dir= '/content/drive/MyDrive/cats_and_dogs_small/train/cats'\n",
        "train_dogs_dir= '/content/drive/MyDrive/cats_and_dogs_small/train/dogs'\n",
        "\n",
        "validation_cats_dir= '/content/drive/MyDrive/cats_and_dogs_small/validation/cats'\n",
        "validation_dogs_dir= '/content/drive/MyDrive/cats_and_dogs_small/validation/dogs'\n",
        "\n",
        "test_cats_dir= '/content/drive/MyDrive/cats_and_dogs_small/test/cats'\n",
        "test_dogs_dir= '/content/drive/MyDrive/cats_and_dogs_small/test/dogs'"
      ],
      "execution_count": null,
      "outputs": []
    },
    {
      "cell_type": "code",
      "metadata": {
        "id": "Ejpacr5VlDWr"
      },
      "source": [
        "train_dir= '/content/drive/MyDrive/cats_and_dogs_small/train'\n",
        "test_dir= '/content/drive/MyDrive/cats_and_dogs_small/test'\n",
        "validation_dir= '/content/drive/MyDrive/cats_and_dogs_small/validation'"
      ],
      "execution_count": null,
      "outputs": []
    },
    {
      "cell_type": "code",
      "metadata": {
        "colab": {
          "base_uri": "https://localhost:8080/"
        },
        "id": "46vzdLsjlGX1",
        "outputId": "7accfdf3-bc4d-480d-e6b5-7bb97fe32177"
      },
      "source": [
        "print('total training cat images:', len(os.listdir(train_cats_dir)))\n",
        "print('total training cat images:', len(os.listdir(train_dogs_dir)))\n",
        "print('total validation cat images:', len(os.listdir(validation_cats_dir)))\n",
        "print('total validation dog images:', len(os.listdir(validation_dogs_dir)))\n",
        "print('total test cat images:', len(os.listdir(test_cats_dir)))\n",
        "print('total test dog images:', len(os.listdir(test_dogs_dir)))"
      ],
      "execution_count": null,
      "outputs": [
        {
          "output_type": "stream",
          "text": [
            "total training cat images: 1000\n",
            "total training cat images: 1000\n",
            "total validation cat images: 500\n",
            "total validation dog images: 500\n",
            "total test cat images: 500\n",
            "total test dog images: 500\n"
          ],
          "name": "stdout"
        }
      ]
    },
    {
      "cell_type": "code",
      "metadata": {
        "colab": {
          "base_uri": "https://localhost:8080/"
        },
        "id": "HR-VHycwlJ9w",
        "outputId": "7b10f53d-1283-4a63-b71e-e8b92743f416"
      },
      "source": [
        "from tensorflow.keras.applications import VGG16\n",
        "\n",
        "conv_base = VGG16(weights='imagenet',\n",
        "                  include_top=False,\n",
        "                  input_shape=(150, 150, 3))"
      ],
      "execution_count": null,
      "outputs": [
        {
          "output_type": "stream",
          "text": [
            "Downloading data from https://github.com/fchollet/deep-learning-models/releases/download/v0.1/vgg16_weights_tf_dim_ordering_tf_kernels_notop.h5\n",
            "58892288/58889256 [==============================] - 1s 0us/step\n"
          ],
          "name": "stdout"
        }
      ]
    },
    {
      "cell_type": "code",
      "metadata": {
        "colab": {
          "base_uri": "https://localhost:8080/"
        },
        "id": "qI-W_pZflsgh",
        "outputId": "266c8988-6aa1-438c-e77c-9de64adec59e"
      },
      "source": [
        "conv_base.summary()"
      ],
      "execution_count": null,
      "outputs": [
        {
          "output_type": "stream",
          "text": [
            "Model: \"vgg16\"\n",
            "_________________________________________________________________\n",
            "Layer (type)                 Output Shape              Param #   \n",
            "=================================================================\n",
            "input_1 (InputLayer)         [(None, 150, 150, 3)]     0         \n",
            "_________________________________________________________________\n",
            "block1_conv1 (Conv2D)        (None, 150, 150, 64)      1792      \n",
            "_________________________________________________________________\n",
            "block1_conv2 (Conv2D)        (None, 150, 150, 64)      36928     \n",
            "_________________________________________________________________\n",
            "block1_pool (MaxPooling2D)   (None, 75, 75, 64)        0         \n",
            "_________________________________________________________________\n",
            "block2_conv1 (Conv2D)        (None, 75, 75, 128)       73856     \n",
            "_________________________________________________________________\n",
            "block2_conv2 (Conv2D)        (None, 75, 75, 128)       147584    \n",
            "_________________________________________________________________\n",
            "block2_pool (MaxPooling2D)   (None, 37, 37, 128)       0         \n",
            "_________________________________________________________________\n",
            "block3_conv1 (Conv2D)        (None, 37, 37, 256)       295168    \n",
            "_________________________________________________________________\n",
            "block3_conv2 (Conv2D)        (None, 37, 37, 256)       590080    \n",
            "_________________________________________________________________\n",
            "block3_conv3 (Conv2D)        (None, 37, 37, 256)       590080    \n",
            "_________________________________________________________________\n",
            "block3_pool (MaxPooling2D)   (None, 18, 18, 256)       0         \n",
            "_________________________________________________________________\n",
            "block4_conv1 (Conv2D)        (None, 18, 18, 512)       1180160   \n",
            "_________________________________________________________________\n",
            "block4_conv2 (Conv2D)        (None, 18, 18, 512)       2359808   \n",
            "_________________________________________________________________\n",
            "block4_conv3 (Conv2D)        (None, 18, 18, 512)       2359808   \n",
            "_________________________________________________________________\n",
            "block4_pool (MaxPooling2D)   (None, 9, 9, 512)         0         \n",
            "_________________________________________________________________\n",
            "block5_conv1 (Conv2D)        (None, 9, 9, 512)         2359808   \n",
            "_________________________________________________________________\n",
            "block5_conv2 (Conv2D)        (None, 9, 9, 512)         2359808   \n",
            "_________________________________________________________________\n",
            "block5_conv3 (Conv2D)        (None, 9, 9, 512)         2359808   \n",
            "_________________________________________________________________\n",
            "block5_pool (MaxPooling2D)   (None, 4, 4, 512)         0         \n",
            "=================================================================\n",
            "Total params: 14,714,688\n",
            "Trainable params: 14,714,688\n",
            "Non-trainable params: 0\n",
            "_________________________________________________________________\n"
          ],
          "name": "stdout"
        }
      ]
    },
    {
      "cell_type": "code",
      "metadata": {
        "colab": {
          "base_uri": "https://localhost:8080/"
        },
        "id": "3Q9YNGe7lylx",
        "outputId": "bfc553ff-0b24-4e5a-c51f-9a083a7f9ca9"
      },
      "source": [
        "import numpy as np\n",
        "from tensorflow.keras.preprocessing.image import ImageDataGenerator\n",
        "\n",
        "\n",
        "train_dir = os.path.join(train_dir)\n",
        "validation_dir = os.path.join(validation_dir)\n",
        "test_dir = os.path.join(test_dir)\n",
        "\n",
        "datagen = ImageDataGenerator(rescale=1./255)\n",
        "batch_size = 20\n",
        "\n",
        "def extract_features(directory, sample_count):\n",
        "    features = np.zeros(shape=(sample_count, 4, 4, 512))\n",
        "    labels = np.zeros(shape=(sample_count))\n",
        "    generator = datagen.flow_from_directory(\n",
        "        directory,\n",
        "        target_size=(150, 150),\n",
        "        batch_size=batch_size,\n",
        "        class_mode='binary')\n",
        "    i = 0\n",
        "    for inputs_batch, labels_batch in generator:\n",
        "        features_batch = conv_base.predict(inputs_batch)\n",
        "        features[i * batch_size : (i + 1) * batch_size] = features_batch\n",
        "        labels[i * batch_size : (i + 1) * batch_size] = labels_batch\n",
        "        i += 1\n",
        "        if i * batch_size >= sample_count:\n",
        "            # Note that since generators yield data indefinitely in a loop,\n",
        "            # we must `break` after every image has been seen once.\n",
        "            break\n",
        "    return features, labels\n",
        "\n",
        "train_features, train_labels = extract_features(train_dir, 2000)\n",
        "validation_features, validation_labels = extract_features(validation_dir, 1000)\n",
        "test_features, test_labels = extract_features(test_dir, 1000)"
      ],
      "execution_count": null,
      "outputs": [
        {
          "output_type": "stream",
          "text": [
            "Found 2000 images belonging to 2 classes.\n",
            "Found 1000 images belonging to 2 classes.\n",
            "Found 1000 images belonging to 2 classes.\n"
          ],
          "name": "stdout"
        }
      ]
    },
    {
      "cell_type": "code",
      "metadata": {
        "id": "1KoBcnySmPaQ"
      },
      "source": [
        "train_features = np.reshape(train_features, (2000, 4 * 4 * 512))\n",
        "validation_features = np.reshape(validation_features, (1000, 4 * 4 * 512))\n",
        "test_features = np.reshape(test_features, (1000, 4 * 4 * 512))"
      ],
      "execution_count": null,
      "outputs": []
    },
    {
      "cell_type": "code",
      "metadata": {
        "colab": {
          "base_uri": "https://localhost:8080/"
        },
        "id": "gjaYmK04rrT3",
        "outputId": "e02a330b-9554-49c8-d21a-33b5564a4c47"
      },
      "source": [
        "from tensorflow.keras import models\n",
        "from tensorflow.keras import layers\n",
        "from tensorflow.keras import optimizers\n",
        "\n",
        "model = models.Sequential()\n",
        "model.add(layers.Dense(256, activation='relu', input_dim=4 * 4 * 512))\n",
        "model.add(layers.Dropout(0.5))\n",
        "model.add(layers.Dense(1, activation='sigmoid'))\n",
        "\n",
        "model.compile(optimizer=optimizers.RMSprop(lr=2e-5),\n",
        "              loss='binary_crossentropy',\n",
        "              metrics=['acc'])\n",
        "\n",
        "history = model.fit(train_features, train_labels,\n",
        "                    epochs=30,\n",
        "                    batch_size=20,\n",
        "                    validation_data=(validation_features, validation_labels))"
      ],
      "execution_count": null,
      "outputs": [
        {
          "output_type": "stream",
          "text": [
            "Train on 2000 samples, validate on 1000 samples\n",
            "Epoch 1/30\n",
            "2000/2000 [==============================] - 1s 575us/sample - loss: 0.5945 - acc: 0.6690 - val_loss: 0.4341 - val_acc: 0.8420\n",
            "Epoch 2/30\n",
            "2000/2000 [==============================] - 1s 358us/sample - loss: 0.4301 - acc: 0.8080 - val_loss: 0.3587 - val_acc: 0.8580\n",
            "Epoch 3/30\n",
            "2000/2000 [==============================] - 1s 353us/sample - loss: 0.3515 - acc: 0.8560 - val_loss: 0.3202 - val_acc: 0.8730\n",
            "Epoch 4/30\n",
            "2000/2000 [==============================] - 1s 364us/sample - loss: 0.3181 - acc: 0.8645 - val_loss: 0.3053 - val_acc: 0.8830\n",
            "Epoch 5/30\n",
            "2000/2000 [==============================] - 1s 363us/sample - loss: 0.2928 - acc: 0.8795 - val_loss: 0.2853 - val_acc: 0.8900\n",
            "Epoch 6/30\n",
            "2000/2000 [==============================] - 1s 362us/sample - loss: 0.2588 - acc: 0.9015 - val_loss: 0.2718 - val_acc: 0.8960\n",
            "Epoch 7/30\n",
            "2000/2000 [==============================] - 1s 367us/sample - loss: 0.2417 - acc: 0.9035 - val_loss: 0.2696 - val_acc: 0.8840\n",
            "Epoch 8/30\n",
            "2000/2000 [==============================] - 1s 360us/sample - loss: 0.2348 - acc: 0.9110 - val_loss: 0.2557 - val_acc: 0.9000\n",
            "Epoch 9/30\n",
            "2000/2000 [==============================] - 1s 357us/sample - loss: 0.2251 - acc: 0.9105 - val_loss: 0.2508 - val_acc: 0.9000\n",
            "Epoch 10/30\n",
            "2000/2000 [==============================] - 1s 359us/sample - loss: 0.1989 - acc: 0.9260 - val_loss: 0.2453 - val_acc: 0.9020\n",
            "Epoch 11/30\n",
            "2000/2000 [==============================] - 1s 363us/sample - loss: 0.1940 - acc: 0.9285 - val_loss: 0.2518 - val_acc: 0.8970\n",
            "Epoch 12/30\n",
            "2000/2000 [==============================] - 1s 362us/sample - loss: 0.1824 - acc: 0.9330 - val_loss: 0.2444 - val_acc: 0.8970\n",
            "Epoch 13/30\n",
            "2000/2000 [==============================] - 1s 357us/sample - loss: 0.1751 - acc: 0.9365 - val_loss: 0.2383 - val_acc: 0.9040\n",
            "Epoch 14/30\n",
            "2000/2000 [==============================] - 1s 352us/sample - loss: 0.1730 - acc: 0.9365 - val_loss: 0.2352 - val_acc: 0.9040\n",
            "Epoch 15/30\n",
            "2000/2000 [==============================] - 1s 362us/sample - loss: 0.1635 - acc: 0.9425 - val_loss: 0.2494 - val_acc: 0.8950\n",
            "Epoch 16/30\n",
            "2000/2000 [==============================] - 1s 365us/sample - loss: 0.1513 - acc: 0.9450 - val_loss: 0.2356 - val_acc: 0.9020\n",
            "Epoch 17/30\n",
            "2000/2000 [==============================] - 1s 365us/sample - loss: 0.1536 - acc: 0.9515 - val_loss: 0.2424 - val_acc: 0.8980\n",
            "Epoch 18/30\n",
            "2000/2000 [==============================] - 1s 357us/sample - loss: 0.1396 - acc: 0.9495 - val_loss: 0.2340 - val_acc: 0.9100\n",
            "Epoch 19/30\n",
            "2000/2000 [==============================] - 1s 366us/sample - loss: 0.1336 - acc: 0.9505 - val_loss: 0.2328 - val_acc: 0.9060\n",
            "Epoch 20/30\n",
            "2000/2000 [==============================] - 1s 364us/sample - loss: 0.1311 - acc: 0.9540 - val_loss: 0.2326 - val_acc: 0.9090\n",
            "Epoch 21/30\n",
            "2000/2000 [==============================] - 1s 367us/sample - loss: 0.1241 - acc: 0.9585 - val_loss: 0.2384 - val_acc: 0.9040\n",
            "Epoch 22/30\n",
            "2000/2000 [==============================] - 1s 358us/sample - loss: 0.1235 - acc: 0.9605 - val_loss: 0.2322 - val_acc: 0.9060\n",
            "Epoch 23/30\n",
            "2000/2000 [==============================] - 1s 370us/sample - loss: 0.1107 - acc: 0.9620 - val_loss: 0.2311 - val_acc: 0.9060\n",
            "Epoch 24/30\n",
            "2000/2000 [==============================] - 1s 365us/sample - loss: 0.1131 - acc: 0.9660 - val_loss: 0.2380 - val_acc: 0.9030\n",
            "Epoch 25/30\n",
            "2000/2000 [==============================] - 1s 359us/sample - loss: 0.1077 - acc: 0.9660 - val_loss: 0.2322 - val_acc: 0.9070\n",
            "Epoch 26/30\n",
            "2000/2000 [==============================] - 1s 364us/sample - loss: 0.0994 - acc: 0.9670 - val_loss: 0.2336 - val_acc: 0.9060\n",
            "Epoch 27/30\n",
            "2000/2000 [==============================] - 1s 366us/sample - loss: 0.0949 - acc: 0.9720 - val_loss: 0.2338 - val_acc: 0.9050\n",
            "Epoch 28/30\n",
            "2000/2000 [==============================] - 1s 362us/sample - loss: 0.0952 - acc: 0.9705 - val_loss: 0.2364 - val_acc: 0.9030\n",
            "Epoch 29/30\n",
            "2000/2000 [==============================] - 1s 361us/sample - loss: 0.0924 - acc: 0.9700 - val_loss: 0.2392 - val_acc: 0.9030\n",
            "Epoch 30/30\n",
            "2000/2000 [==============================] - 1s 366us/sample - loss: 0.0834 - acc: 0.9760 - val_loss: 0.2354 - val_acc: 0.9020\n"
          ],
          "name": "stdout"
        }
      ]
    },
    {
      "cell_type": "code",
      "metadata": {
        "colab": {
          "base_uri": "https://localhost:8080/",
          "height": 545
        },
        "id": "rMxPvceKr1Kh",
        "outputId": "7cc7372b-a64c-4457-fd28-30900e5a2144"
      },
      "source": [
        "import matplotlib.pyplot as plt\n",
        "\n",
        "acc = history.history['acc']\n",
        "val_acc = history.history['val_acc']\n",
        "loss = history.history['loss']\n",
        "val_loss = history.history['val_loss']\n",
        "\n",
        "epochs = range(len(acc))\n",
        "\n",
        "plt.plot(epochs, acc, 'bo', label='Training acc')\n",
        "plt.plot(epochs, val_acc, 'b', label='Validation acc')\n",
        "plt.title('Training and validation accuracy')\n",
        "plt.legend()\n",
        "\n",
        "plt.figure()\n",
        "\n",
        "plt.plot(epochs, loss, 'bo', label='Training loss')\n",
        "plt.plot(epochs, val_loss, 'b', label='Validation loss')\n",
        "plt.title('Training and validation loss')\n",
        "plt.legend()\n",
        "\n",
        "plt.show()"
      ],
      "execution_count": null,
      "outputs": [
        {
          "output_type": "display_data",
          "data": {
            "image/png": "[encoded data removed]",
            "text/plain": [
              "<Figure size 432x288 with 1 Axes>"
            ]
          },
          "metadata": {
            "tags": [],
            "needs_background": "light"
          }
        },
        {
          "output_type": "display_data",
          "data": {
            "image/png": "[encoded data removed]",
            "text/plain": [
              "<Figure size 432x288 with 1 Axes>"
            ]
          },
          "metadata": {
            "tags": [],
            "needs_background": "light"
          }
        }
      ]
    },
    {
      "cell_type": "code",
      "metadata": {
        "id": "EUqeH6zrsAZ3"
      },
      "source": [
        "from tensorflow.keras import models\n",
        "from tensorflow.keras import layers\n",
        "\n",
        "model = models.Sequential()\n",
        "model.add(conv_base)\n",
        "model.add(layers.Flatten())\n",
        "model.add(layers.Dense(256, activation='relu'))\n",
        "model.add(layers.Dense(1, activation='sigmoid'))"
      ],
      "execution_count": null,
      "outputs": []
    },
    {
      "cell_type": "code",
      "metadata": {
        "colab": {
          "base_uri": "https://localhost:8080/"
        },
        "id": "rECpjXabsJGb",
        "outputId": "950d958b-f033-49cd-8c29-1c1d1beb0378"
      },
      "source": [
        "model.summary()"
      ],
      "execution_count": null,
      "outputs": [
        {
          "output_type": "stream",
          "text": [
            "Model: \"sequential_1\"\n",
            "_________________________________________________________________\n",
            "Layer (type)                 Output Shape              Param #   \n",
            "=================================================================\n",
            "vgg16 (Model)                (None, 4, 4, 512)         14714688  \n",
            "_________________________________________________________________\n",
            "flatten (Flatten)            (None, 8192)              0         \n",
            "_________________________________________________________________\n",
            "dense_2 (Dense)              (None, 256)               2097408   \n",
            "_________________________________________________________________\n",
            "dense_3 (Dense)              (None, 1)                 257       \n",
            "=================================================================\n",
            "Total params: 16,812,353\n",
            "Trainable params: 16,812,353\n",
            "Non-trainable params: 0\n",
            "_________________________________________________________________\n"
          ],
          "name": "stdout"
        }
      ]
    },
    {
      "cell_type": "code",
      "metadata": {
        "colab": {
          "base_uri": "https://localhost:8080/"
        },
        "id": "0KGLpw6rsMQn",
        "outputId": "95d9d6c5-cade-4a3e-d45a-2f531a267731"
      },
      "source": [
        "print('This is the number of trainable weights '\n",
        "      'before freezing the conv base:', len(model.trainable_weights))"
      ],
      "execution_count": null,
      "outputs": [
        {
          "output_type": "stream",
          "text": [
            "This is the number of trainable weights before freezing the conv base: 30\n"
          ],
          "name": "stdout"
        }
      ]
    },
    {
      "cell_type": "code",
      "metadata": {
        "id": "6N1UEjGKsQ7C"
      },
      "source": [
        "conv_base.trainable = False"
      ],
      "execution_count": null,
      "outputs": []
    },
    {
      "cell_type": "code",
      "metadata": {
        "colab": {
          "base_uri": "https://localhost:8080/"
        },
        "id": "VsHV5EeXsTME",
        "outputId": "963d1db2-f0db-48ac-97ab-540cd9ddc3c7"
      },
      "source": [
        "print('This is the number of trainable weights '\n",
        "      'after freezing the conv base:', len(model.trainable_weights))"
      ],
      "execution_count": null,
      "outputs": [
        {
          "output_type": "stream",
          "text": [
            "This is the number of trainable weights after freezing the conv base: 4\n"
          ],
          "name": "stdout"
        }
      ]
    },
    {
      "cell_type": "code",
      "metadata": {
        "colab": {
          "base_uri": "https://localhost:8080/"
        },
        "id": "LL--lBZdsVX8",
        "outputId": "0b1fb844-0ff6-4a58-8d15-2b8b90f853b6"
      },
      "source": [
        "from tensorflow.keras.preprocessing.image import ImageDataGenerator\n",
        "\n",
        "train_datagen = ImageDataGenerator(\n",
        "      rescale=1./255,\n",
        "      rotation_range=40,\n",
        "      width_shift_range=0.2,\n",
        "      height_shift_range=0.2,\n",
        "      shear_range=0.2,\n",
        "      zoom_range=0.2,\n",
        "      horizontal_flip=True,\n",
        "      fill_mode='nearest')\n",
        "\n",
        "# Note that the validation data should not be augmented!\n",
        "test_datagen = ImageDataGenerator(rescale=1./255)\n",
        "\n",
        "train_generator = train_datagen.flow_from_directory(\n",
        "        # This is the target directory\n",
        "        train_dir,\n",
        "        # All images will be resized to 150x150\n",
        "        target_size=(150, 150),\n",
        "        batch_size=20,\n",
        "        # Since we use binary_crossentropy loss, we need binary labels\n",
        "        class_mode='binary')\n",
        "\n",
        "validation_generator = test_datagen.flow_from_directory(\n",
        "        validation_dir,\n",
        "        target_size=(150, 150),\n",
        "        batch_size=20,\n",
        "        class_mode='binary')\n",
        "\n",
        "model.compile(loss='binary_crossentropy',\n",
        "              optimizer=optimizers.RMSprop(lr=2e-5),\n",
        "              metrics=['acc'])\n",
        "\n",
        "history = model.fit_generator(\n",
        "      train_generator,\n",
        "      steps_per_epoch=100,\n",
        "      epochs=30,\n",
        "      validation_data=validation_generator,\n",
        "      validation_steps=50,\n",
        "      verbose=2)"
      ],
      "execution_count": null,
      "outputs": [
        {
          "output_type": "stream",
          "text": [
            "Found 2000 images belonging to 2 classes.\n",
            "Found 1000 images belonging to 2 classes.\n",
            "WARNING:tensorflow:From <ipython-input-20-09848482494e>:41: Model.fit_generator (from tensorflow.python.keras.engine.training) is deprecated and will be removed in a future version.\n",
            "Instructions for updating:\n",
            "Please use Model.fit, which supports generators.\n",
            "WARNING:tensorflow:sample_weight modes were coerced from\n",
            "  ...\n",
            "    to  \n",
            "  ['...']\n",
            "WARNING:tensorflow:sample_weight modes were coerced from\n",
            "  ...\n",
            "    to  \n",
            "  ['...']\n",
            "Train for 100 steps, validate for 50 steps\n",
            "Epoch 1/30\n",
            "100/100 - 30s - loss: 0.5850 - acc: 0.7070 - val_loss: 0.4429 - val_acc: 0.8260\n",
            "Epoch 2/30\n",
            "100/100 - 29s - loss: 0.4829 - acc: 0.7805 - val_loss: 0.3654 - val_acc: 0.8710\n",
            "Epoch 3/30\n",
            "100/100 - 29s - loss: 0.4398 - acc: 0.8010 - val_loss: 0.3304 - val_acc: 0.8670\n",
            "Epoch 4/30\n",
            "100/100 - 29s - loss: 0.4089 - acc: 0.8185 - val_loss: 0.3068 - val_acc: 0.8780\n",
            "Epoch 5/30\n",
            "100/100 - 29s - loss: 0.3892 - acc: 0.8320 - val_loss: 0.3001 - val_acc: 0.8770\n",
            "Epoch 6/30\n",
            "100/100 - 29s - loss: 0.3696 - acc: 0.8410 - val_loss: 0.2815 - val_acc: 0.8850\n",
            "Epoch 7/30\n",
            "100/100 - 29s - loss: 0.3524 - acc: 0.8430 - val_loss: 0.2842 - val_acc: 0.8820\n",
            "Epoch 8/30\n",
            "100/100 - 29s - loss: 0.3512 - acc: 0.8390 - val_loss: 0.2663 - val_acc: 0.8910\n",
            "Epoch 9/30\n",
            "100/100 - 29s - loss: 0.3486 - acc: 0.8470 - val_loss: 0.2658 - val_acc: 0.8890\n",
            "Epoch 10/30\n",
            "100/100 - 29s - loss: 0.3363 - acc: 0.8500 - val_loss: 0.2587 - val_acc: 0.8970\n",
            "Epoch 11/30\n",
            "100/100 - 29s - loss: 0.3363 - acc: 0.8560 - val_loss: 0.2628 - val_acc: 0.8930\n",
            "Epoch 12/30\n",
            "100/100 - 29s - loss: 0.3232 - acc: 0.8675 - val_loss: 0.2547 - val_acc: 0.8940\n",
            "Epoch 13/30\n",
            "100/100 - 29s - loss: 0.3302 - acc: 0.8435 - val_loss: 0.2536 - val_acc: 0.8940\n",
            "Epoch 14/30\n",
            "100/100 - 29s - loss: 0.3171 - acc: 0.8690 - val_loss: 0.2556 - val_acc: 0.8960\n",
            "Epoch 15/30\n",
            "100/100 - 29s - loss: 0.3089 - acc: 0.8620 - val_loss: 0.2489 - val_acc: 0.8990\n",
            "Epoch 16/30\n",
            "100/100 - 29s - loss: 0.3031 - acc: 0.8690 - val_loss: 0.2536 - val_acc: 0.8980\n",
            "Epoch 17/30\n",
            "100/100 - 29s - loss: 0.3050 - acc: 0.8645 - val_loss: 0.2545 - val_acc: 0.8950\n",
            "Epoch 18/30\n",
            "100/100 - 29s - loss: 0.3012 - acc: 0.8730 - val_loss: 0.2481 - val_acc: 0.8950\n",
            "Epoch 19/30\n",
            "100/100 - 29s - loss: 0.3211 - acc: 0.8600 - val_loss: 0.2427 - val_acc: 0.8970\n",
            "Epoch 20/30\n",
            "100/100 - 29s - loss: 0.3157 - acc: 0.8630 - val_loss: 0.2409 - val_acc: 0.8950\n",
            "Epoch 21/30\n",
            "100/100 - 29s - loss: 0.2950 - acc: 0.8725 - val_loss: 0.2385 - val_acc: 0.8990\n",
            "Epoch 22/30\n",
            "100/100 - 29s - loss: 0.2801 - acc: 0.8825 - val_loss: 0.2544 - val_acc: 0.8930\n",
            "Epoch 23/30\n",
            "100/100 - 29s - loss: 0.3023 - acc: 0.8705 - val_loss: 0.2376 - val_acc: 0.9030\n",
            "Epoch 24/30\n",
            "100/100 - 29s - loss: 0.2928 - acc: 0.8735 - val_loss: 0.2347 - val_acc: 0.9010\n",
            "Epoch 25/30\n",
            "100/100 - 29s - loss: 0.3073 - acc: 0.8615 - val_loss: 0.2377 - val_acc: 0.9050\n",
            "Epoch 26/30\n",
            "100/100 - 29s - loss: 0.2879 - acc: 0.8745 - val_loss: 0.2416 - val_acc: 0.9010\n",
            "Epoch 27/30\n",
            "100/100 - 29s - loss: 0.2912 - acc: 0.8770 - val_loss: 0.2430 - val_acc: 0.8930\n",
            "Epoch 28/30\n",
            "100/100 - 29s - loss: 0.3014 - acc: 0.8710 - val_loss: 0.2386 - val_acc: 0.9000\n",
            "Epoch 29/30\n",
            "100/100 - 29s - loss: 0.2786 - acc: 0.8800 - val_loss: 0.2340 - val_acc: 0.9010\n",
            "Epoch 30/30\n",
            "100/100 - 29s - loss: 0.2821 - acc: 0.8795 - val_loss: 0.2383 - val_acc: 0.9030\n"
          ],
          "name": "stdout"
        }
      ]
    },
    {
      "cell_type": "code",
      "metadata": {
        "id": "FbIktbfswfFi"
      },
      "source": [
        "model.save('/content/drive/MyDrive/cats_and_dogs_small_3.h5')"
      ],
      "execution_count": null,
      "outputs": []
    },
    {
      "cell_type": "code",
      "metadata": {
        "colab": {
          "base_uri": "https://localhost:8080/",
          "height": 545
        },
        "id": "QuAq5PzxwoNm",
        "outputId": "5551fa25-c796-4b91-9188-7e213540276a"
      },
      "source": [
        "acc = history.history['acc']\n",
        "val_acc = history.history['val_acc']\n",
        "loss = history.history['loss']\n",
        "val_loss = history.history['val_loss']\n",
        "\n",
        "epochs = range(len(acc))\n",
        "\n",
        "plt.plot(epochs, acc, 'bo', label='Training acc')\n",
        "plt.plot(epochs, val_acc, 'b', label='Validation acc')\n",
        "plt.title('Training and validation accuracy')\n",
        "plt.legend()\n",
        "\n",
        "plt.figure()\n",
        "\n",
        "plt.plot(epochs, loss, 'bo', label='Training loss')\n",
        "plt.plot(epochs, val_loss, 'b', label='Validation loss')\n",
        "plt.title('Training and validation loss')\n",
        "plt.legend()\n",
        "\n",
        "plt.show()"
      ],
      "execution_count": null,
      "outputs": [
        {
          "output_type": "display_data",
          "data": {
            "image/png": "[encoded data removed]",
            "text/plain": [
              "<Figure size 432x288 with 1 Axes>"
            ]
          },
          "metadata": {
            "tags": [],
            "needs_background": "light"
          }
        },
        {
          "output_type": "display_data",
          "data": {
            "image/png": "[encoded data removed]",
            "text/plain": [
              "<Figure size 432x288 with 1 Axes>"
            ]
          },
          "metadata": {
            "tags": [],
            "needs_background": "light"
          }
        }
      ]
    },
    {
      "cell_type": "code",
      "metadata": {
        "colab": {
          "base_uri": "https://localhost:8080/"
        },
        "id": "8I-rpU_Rwrly",
        "outputId": "90ef2d24-c769-4043-d5d7-d29c815b66b4"
      },
      "source": [
        "conv_base.summary()"
      ],
      "execution_count": null,
      "outputs": [
        {
          "output_type": "stream",
          "text": [
            "Model: \"vgg16\"\n",
            "_________________________________________________________________\n",
            "Layer (type)                 Output Shape              Param #   \n",
            "=================================================================\n",
            "input_1 (InputLayer)         [(None, 150, 150, 3)]     0         \n",
            "_________________________________________________________________\n",
            "block1_conv1 (Conv2D)        (None, 150, 150, 64)      1792      \n",
            "_________________________________________________________________\n",
            "block1_conv2 (Conv2D)        (None, 150, 150, 64)      36928     \n",
            "_________________________________________________________________\n",
            "block1_pool (MaxPooling2D)   (None, 75, 75, 64)        0         \n",
            "_________________________________________________________________\n",
            "block2_conv1 (Conv2D)        (None, 75, 75, 128)       73856     \n",
            "_________________________________________________________________\n",
            "block2_conv2 (Conv2D)        (None, 75, 75, 128)       147584    \n",
            "_________________________________________________________________\n",
            "block2_pool (MaxPooling2D)   (None, 37, 37, 128)       0         \n",
            "_________________________________________________________________\n",
            "block3_conv1 (Conv2D)        (None, 37, 37, 256)       295168    \n",
            "_________________________________________________________________\n",
            "block3_conv2 (Conv2D)        (None, 37, 37, 256)       590080    \n",
            "_________________________________________________________________\n",
            "block3_conv3 (Conv2D)        (None, 37, 37, 256)       590080    \n",
            "_________________________________________________________________\n",
            "block3_pool (MaxPooling2D)   (None, 18, 18, 256)       0         \n",
            "_________________________________________________________________\n",
            "block4_conv1 (Conv2D)        (None, 18, 18, 512)       1180160   \n",
            "_________________________________________________________________\n",
            "block4_conv2 (Conv2D)        (None, 18, 18, 512)       2359808   \n",
            "_________________________________________________________________\n",
            "block4_conv3 (Conv2D)        (None, 18, 18, 512)       2359808   \n",
            "_________________________________________________________________\n",
            "block4_pool (MaxPooling2D)   (None, 9, 9, 512)         0         \n",
            "_________________________________________________________________\n",
            "block5_conv1 (Conv2D)        (None, 9, 9, 512)         2359808   \n",
            "_________________________________________________________________\n",
            "block5_conv2 (Conv2D)        (None, 9, 9, 512)         2359808   \n",
            "_________________________________________________________________\n",
            "block5_conv3 (Conv2D)        (None, 9, 9, 512)         2359808   \n",
            "_________________________________________________________________\n",
            "block5_pool (MaxPooling2D)   (None, 4, 4, 512)         0         \n",
            "=================================================================\n",
            "Total params: 14,714,688\n",
            "Trainable params: 0\n",
            "Non-trainable params: 14,714,688\n",
            "_________________________________________________________________\n"
          ],
          "name": "stdout"
        }
      ]
    },
    {
      "cell_type": "code",
      "metadata": {
        "id": "YKUPma0bwv2-"
      },
      "source": [
        "conv_base.trainable = True\n",
        "\n",
        "set_trainable = False\n",
        "for layer in conv_base.layers:\n",
        "    if layer.name == 'block5_conv1':\n",
        "        set_trainable = True\n",
        "    if set_trainable:\n",
        "        layer.trainable = True\n",
        "    else:\n",
        "        layer.trainable = False"
      ],
      "execution_count": null,
      "outputs": []
    },
    {
      "cell_type": "code",
      "metadata": {
        "colab": {
          "base_uri": "https://localhost:8080/"
        },
        "id": "23gmeub9w00j",
        "outputId": "905f8a4e-9cf6-42c5-eaa2-4c89adb846c1"
      },
      "source": [
        "model.compile(loss='binary_crossentropy',\n",
        "              optimizer=optimizers.RMSprop(lr=1e-5),\n",
        "              metrics=['acc'])\n",
        "\n",
        "history = model.fit_generator(\n",
        "      train_generator,\n",
        "      steps_per_epoch=100,\n",
        "      epochs=100,\n",
        "      validation_data=validation_generator,\n",
        "      validation_steps=50)"
      ],
      "execution_count": null,
      "outputs": [
        {
          "output_type": "stream",
          "text": [
            "WARNING:tensorflow:sample_weight modes were coerced from\n",
            "  ...\n",
            "    to  \n",
            "  ['...']\n",
            "WARNING:tensorflow:sample_weight modes were coerced from\n",
            "  ...\n",
            "    to  \n",
            "  ['...']\n",
            "Train for 100 steps, validate for 50 steps\n",
            "Epoch 1/100\n",
            "100/100 [==============================] - 32s 317ms/step - loss: 0.2907 - acc: 0.8720 - val_loss: 0.2147 - val_acc: 0.9130\n",
            "Epoch 2/100\n",
            "100/100 [==============================] - 31s 307ms/step - loss: 0.2703 - acc: 0.8780 - val_loss: 0.2133 - val_acc: 0.9150\n",
            "Epoch 3/100\n",
            "100/100 [==============================] - 30s 304ms/step - loss: 0.2443 - acc: 0.9035 - val_loss: 0.2074 - val_acc: 0.9150\n",
            "Epoch 4/100\n",
            "100/100 [==============================] - 31s 305ms/step - loss: 0.2354 - acc: 0.8995 - val_loss: 0.1907 - val_acc: 0.9260\n",
            "Epoch 5/100\n",
            "100/100 [==============================] - 30s 305ms/step - loss: 0.1950 - acc: 0.9205 - val_loss: 0.2691 - val_acc: 0.8980\n",
            "Epoch 6/100\n",
            "100/100 [==============================] - 31s 307ms/step - loss: 0.1992 - acc: 0.9180 - val_loss: 0.1871 - val_acc: 0.9310\n",
            "Epoch 7/100\n",
            "100/100 [==============================] - 30s 304ms/step - loss: 0.1820 - acc: 0.9310 - val_loss: 0.2027 - val_acc: 0.9270\n",
            "Epoch 8/100\n",
            "100/100 [==============================] - 30s 304ms/step - loss: 0.1668 - acc: 0.9280 - val_loss: 0.2082 - val_acc: 0.9210\n",
            "Epoch 9/100\n",
            "100/100 [==============================] - 30s 303ms/step - loss: 0.1617 - acc: 0.9375 - val_loss: 0.1873 - val_acc: 0.9280\n",
            "Epoch 10/100\n",
            "100/100 [==============================] - 30s 303ms/step - loss: 0.1623 - acc: 0.9400 - val_loss: 0.1959 - val_acc: 0.9240\n",
            "Epoch 11/100\n",
            "100/100 [==============================] - 30s 304ms/step - loss: 0.1542 - acc: 0.9345 - val_loss: 0.1775 - val_acc: 0.9330\n",
            "Epoch 12/100\n",
            "100/100 [==============================] - 31s 305ms/step - loss: 0.1607 - acc: 0.9360 - val_loss: 0.1745 - val_acc: 0.9360\n",
            "Epoch 13/100\n",
            "100/100 [==============================] - 31s 306ms/step - loss: 0.1452 - acc: 0.9385 - val_loss: 0.2069 - val_acc: 0.9240\n",
            "Epoch 14/100\n",
            "100/100 [==============================] - 31s 308ms/step - loss: 0.1240 - acc: 0.9485 - val_loss: 0.1879 - val_acc: 0.9310\n",
            "Epoch 15/100\n",
            "100/100 [==============================] - 31s 305ms/step - loss: 0.1360 - acc: 0.9455 - val_loss: 0.2378 - val_acc: 0.9080\n",
            "Epoch 16/100\n",
            "100/100 [==============================] - 31s 308ms/step - loss: 0.1134 - acc: 0.9565 - val_loss: 0.1839 - val_acc: 0.9300\n",
            "Epoch 17/100\n",
            "100/100 [==============================] - 31s 308ms/step - loss: 0.1152 - acc: 0.9530 - val_loss: 0.2426 - val_acc: 0.9200\n",
            "Epoch 18/100\n",
            "100/100 [==============================] - 31s 306ms/step - loss: 0.1084 - acc: 0.9600 - val_loss: 0.1869 - val_acc: 0.9340\n",
            "Epoch 19/100\n",
            "100/100 [==============================] - 31s 307ms/step - loss: 0.0982 - acc: 0.9580 - val_loss: 0.1987 - val_acc: 0.9360\n",
            "Epoch 20/100\n",
            "100/100 [==============================] - 31s 306ms/step - loss: 0.1052 - acc: 0.9590 - val_loss: 0.2452 - val_acc: 0.9190\n",
            "Epoch 21/100\n",
            "100/100 [==============================] - 31s 307ms/step - loss: 0.1010 - acc: 0.9640 - val_loss: 0.1690 - val_acc: 0.9440\n",
            "Epoch 22/100\n",
            "100/100 [==============================] - 30s 304ms/step - loss: 0.0859 - acc: 0.9670 - val_loss: 0.1817 - val_acc: 0.9410\n",
            "Epoch 23/100\n",
            "100/100 [==============================] - 30s 305ms/step - loss: 0.0975 - acc: 0.9655 - val_loss: 0.1773 - val_acc: 0.9340\n",
            "Epoch 24/100\n",
            "100/100 [==============================] - 30s 305ms/step - loss: 0.0916 - acc: 0.9645 - val_loss: 0.1766 - val_acc: 0.9410\n",
            "Epoch 25/100\n",
            "100/100 [==============================] - 30s 305ms/step - loss: 0.0817 - acc: 0.9675 - val_loss: 0.1941 - val_acc: 0.9390\n",
            "Epoch 26/100\n",
            "100/100 [==============================] - 31s 306ms/step - loss: 0.0863 - acc: 0.9675 - val_loss: 0.2017 - val_acc: 0.9330\n",
            "Epoch 27/100\n",
            "100/100 [==============================] - 30s 305ms/step - loss: 0.0669 - acc: 0.9750 - val_loss: 0.1912 - val_acc: 0.9370\n",
            "Epoch 28/100\n",
            "100/100 [==============================] - 31s 305ms/step - loss: 0.0874 - acc: 0.9680 - val_loss: 0.1614 - val_acc: 0.9370\n",
            "Epoch 29/100\n",
            "100/100 [==============================] - 31s 310ms/step - loss: 0.0703 - acc: 0.9735 - val_loss: 0.1990 - val_acc: 0.9300\n",
            "Epoch 30/100\n",
            "100/100 [==============================] - 31s 310ms/step - loss: 0.0578 - acc: 0.9805 - val_loss: 0.2184 - val_acc: 0.9260\n",
            "Epoch 31/100\n",
            "100/100 [==============================] - 31s 309ms/step - loss: 0.0693 - acc: 0.9705 - val_loss: 0.1795 - val_acc: 0.9310\n",
            "Epoch 32/100\n",
            "100/100 [==============================] - 31s 305ms/step - loss: 0.0702 - acc: 0.9730 - val_loss: 0.2013 - val_acc: 0.9380\n",
            "Epoch 33/100\n",
            "100/100 [==============================] - 31s 308ms/step - loss: 0.0683 - acc: 0.9725 - val_loss: 0.2045 - val_acc: 0.9410\n",
            "Epoch 34/100\n",
            "100/100 [==============================] - 31s 305ms/step - loss: 0.0536 - acc: 0.9800 - val_loss: 0.1817 - val_acc: 0.9410\n",
            "Epoch 35/100\n",
            "100/100 [==============================] - 31s 306ms/step - loss: 0.0595 - acc: 0.9790 - val_loss: 0.1844 - val_acc: 0.9340\n",
            "Epoch 36/100\n",
            "100/100 [==============================] - 30s 304ms/step - loss: 0.0581 - acc: 0.9775 - val_loss: 0.2554 - val_acc: 0.9250\n",
            "Epoch 37/100\n",
            "100/100 [==============================] - 30s 304ms/step - loss: 0.0514 - acc: 0.9820 - val_loss: 0.2052 - val_acc: 0.9350\n",
            "Epoch 38/100\n",
            "100/100 [==============================] - 30s 305ms/step - loss: 0.0589 - acc: 0.9780 - val_loss: 0.2130 - val_acc: 0.9330\n",
            "Epoch 39/100\n",
            "100/100 [==============================] - 31s 306ms/step - loss: 0.0508 - acc: 0.9825 - val_loss: 0.2902 - val_acc: 0.9140\n",
            "Epoch 40/100\n",
            "100/100 [==============================] - 31s 305ms/step - loss: 0.0509 - acc: 0.9835 - val_loss: 0.2202 - val_acc: 0.9260\n",
            "Epoch 41/100\n",
            "100/100 [==============================] - 31s 309ms/step - loss: 0.0442 - acc: 0.9865 - val_loss: 0.1756 - val_acc: 0.9430\n",
            "Epoch 42/100\n",
            "100/100 [==============================] - 31s 310ms/step - loss: 0.0403 - acc: 0.9850 - val_loss: 0.1886 - val_acc: 0.9360\n",
            "Epoch 43/100\n",
            "100/100 [==============================] - 31s 309ms/step - loss: 0.0518 - acc: 0.9820 - val_loss: 0.2368 - val_acc: 0.9290\n",
            "Epoch 44/100\n",
            "100/100 [==============================] - 31s 307ms/step - loss: 0.0454 - acc: 0.9840 - val_loss: 0.1978 - val_acc: 0.9360\n",
            "Epoch 45/100\n",
            "100/100 [==============================] - 31s 308ms/step - loss: 0.0454 - acc: 0.9825 - val_loss: 0.2457 - val_acc: 0.9340\n",
            "Epoch 46/100\n",
            "100/100 [==============================] - 31s 306ms/step - loss: 0.0381 - acc: 0.9845 - val_loss: 0.2502 - val_acc: 0.9390\n",
            "Epoch 47/100\n",
            "100/100 [==============================] - 31s 305ms/step - loss: 0.0464 - acc: 0.9820 - val_loss: 0.2890 - val_acc: 0.9300\n",
            "Epoch 48/100\n",
            "100/100 [==============================] - 31s 306ms/step - loss: 0.0429 - acc: 0.9850 - val_loss: 0.1919 - val_acc: 0.9430\n",
            "Epoch 49/100\n",
            "100/100 [==============================] - 31s 310ms/step - loss: 0.0559 - acc: 0.9795 - val_loss: 0.2273 - val_acc: 0.9350\n",
            "Epoch 50/100\n",
            "100/100 [==============================] - 31s 311ms/step - loss: 0.0338 - acc: 0.9870 - val_loss: 0.3237 - val_acc: 0.9230\n",
            "Epoch 51/100\n",
            "100/100 [==============================] - 31s 311ms/step - loss: 0.0395 - acc: 0.9855 - val_loss: 0.1965 - val_acc: 0.9390\n",
            "Epoch 52/100\n",
            "100/100 [==============================] - 31s 309ms/step - loss: 0.0340 - acc: 0.9900 - val_loss: 0.2321 - val_acc: 0.9410\n",
            "Epoch 53/100\n",
            "100/100 [==============================] - 31s 310ms/step - loss: 0.0328 - acc: 0.9880 - val_loss: 0.2176 - val_acc: 0.9350\n",
            "Epoch 54/100\n",
            "100/100 [==============================] - 31s 312ms/step - loss: 0.0323 - acc: 0.9875 - val_loss: 0.1954 - val_acc: 0.9390\n",
            "Epoch 55/100\n",
            "100/100 [==============================] - 31s 313ms/step - loss: 0.0442 - acc: 0.9850 - val_loss: 0.2908 - val_acc: 0.9340\n",
            "Epoch 56/100\n",
            "100/100 [==============================] - 31s 310ms/step - loss: 0.0371 - acc: 0.9860 - val_loss: 0.2318 - val_acc: 0.9390\n",
            "Epoch 57/100\n",
            "100/100 [==============================] - 31s 310ms/step - loss: 0.0450 - acc: 0.9840 - val_loss: 0.2259 - val_acc: 0.9400\n",
            "Epoch 58/100\n",
            "100/100 [==============================] - 31s 309ms/step - loss: 0.0400 - acc: 0.9840 - val_loss: 0.2627 - val_acc: 0.9300\n",
            "Epoch 59/100\n",
            "100/100 [==============================] - 31s 309ms/step - loss: 0.0266 - acc: 0.9925 - val_loss: 0.1997 - val_acc: 0.9450\n",
            "Epoch 60/100\n",
            "100/100 [==============================] - 31s 309ms/step - loss: 0.0337 - acc: 0.9895 - val_loss: 0.3149 - val_acc: 0.9290\n",
            "Epoch 61/100\n",
            "100/100 [==============================] - 31s 307ms/step - loss: 0.0378 - acc: 0.9890 - val_loss: 0.2535 - val_acc: 0.9350\n",
            "Epoch 62/100\n",
            "100/100 [==============================] - 31s 306ms/step - loss: 0.0365 - acc: 0.9895 - val_loss: 0.2690 - val_acc: 0.9210\n",
            "Epoch 63/100\n",
            "100/100 [==============================] - 30s 305ms/step - loss: 0.0372 - acc: 0.9880 - val_loss: 0.2305 - val_acc: 0.9410\n",
            "Epoch 64/100\n",
            "100/100 [==============================] - 31s 307ms/step - loss: 0.0258 - acc: 0.9900 - val_loss: 0.2827 - val_acc: 0.9370\n",
            "Epoch 65/100\n",
            "100/100 [==============================] - 31s 307ms/step - loss: 0.0329 - acc: 0.9885 - val_loss: 0.2198 - val_acc: 0.9420\n",
            "Epoch 66/100\n",
            "100/100 [==============================] - 31s 307ms/step - loss: 0.0271 - acc: 0.9915 - val_loss: 0.2732 - val_acc: 0.9410\n",
            "Epoch 67/100\n",
            "100/100 [==============================] - 31s 305ms/step - loss: 0.0287 - acc: 0.9890 - val_loss: 0.2173 - val_acc: 0.9420\n",
            "Epoch 68/100\n",
            "100/100 [==============================] - 31s 306ms/step - loss: 0.0326 - acc: 0.9900 - val_loss: 0.2425 - val_acc: 0.9450\n",
            "Epoch 69/100\n",
            "100/100 [==============================] - 31s 309ms/step - loss: 0.0235 - acc: 0.9940 - val_loss: 0.2522 - val_acc: 0.9400\n",
            "Epoch 70/100\n",
            "100/100 [==============================] - 31s 309ms/step - loss: 0.0349 - acc: 0.9890 - val_loss: 0.2031 - val_acc: 0.9520\n",
            "Epoch 71/100\n",
            "100/100 [==============================] - 31s 309ms/step - loss: 0.0251 - acc: 0.9915 - val_loss: 0.2616 - val_acc: 0.9410\n",
            "Epoch 72/100\n",
            "100/100 [==============================] - 31s 309ms/step - loss: 0.0241 - acc: 0.9910 - val_loss: 0.3268 - val_acc: 0.9250\n",
            "Epoch 73/100\n",
            "100/100 [==============================] - 31s 308ms/step - loss: 0.0240 - acc: 0.9910 - val_loss: 0.2303 - val_acc: 0.9450\n",
            "Epoch 74/100\n",
            "100/100 [==============================] - 31s 306ms/step - loss: 0.0301 - acc: 0.9910 - val_loss: 0.3111 - val_acc: 0.9270\n",
            "Epoch 75/100\n",
            "100/100 [==============================] - 31s 306ms/step - loss: 0.0258 - acc: 0.9910 - val_loss: 0.2504 - val_acc: 0.9400\n",
            "Epoch 76/100\n",
            "100/100 [==============================] - 31s 306ms/step - loss: 0.0274 - acc: 0.9910 - val_loss: 0.2618 - val_acc: 0.9350\n",
            "Epoch 77/100\n",
            "100/100 [==============================] - 30s 304ms/step - loss: 0.0162 - acc: 0.9930 - val_loss: 0.2336 - val_acc: 0.9440\n",
            "Epoch 78/100\n",
            "100/100 [==============================] - 31s 306ms/step - loss: 0.0311 - acc: 0.9885 - val_loss: 0.2090 - val_acc: 0.9410\n",
            "Epoch 79/100\n",
            "100/100 [==============================] - 31s 305ms/step - loss: 0.0206 - acc: 0.9915 - val_loss: 0.2017 - val_acc: 0.9420\n",
            "Epoch 80/100\n",
            "100/100 [==============================] - 30s 305ms/step - loss: 0.0290 - acc: 0.9885 - val_loss: 0.2138 - val_acc: 0.9440\n",
            "Epoch 81/100\n",
            "100/100 [==============================] - 31s 305ms/step - loss: 0.0282 - acc: 0.9885 - val_loss: 0.2263 - val_acc: 0.9410\n",
            "Epoch 82/100\n",
            "100/100 [==============================] - 31s 306ms/step - loss: 0.0240 - acc: 0.9915 - val_loss: 0.2224 - val_acc: 0.9440\n",
            "Epoch 83/100\n",
            "100/100 [==============================] - 31s 312ms/step - loss: 0.0303 - acc: 0.9900 - val_loss: 0.2810 - val_acc: 0.9330\n",
            "Epoch 84/100\n",
            "100/100 [==============================] - 31s 305ms/step - loss: 0.0218 - acc: 0.9940 - val_loss: 0.2191 - val_acc: 0.9440\n",
            "Epoch 85/100\n",
            "100/100 [==============================] - 31s 305ms/step - loss: 0.0199 - acc: 0.9930 - val_loss: 0.2375 - val_acc: 0.9360\n",
            "Epoch 86/100\n",
            "100/100 [==============================] - 31s 305ms/step - loss: 0.0278 - acc: 0.9920 - val_loss: 0.2607 - val_acc: 0.9360\n",
            "Epoch 87/100\n",
            "100/100 [==============================] - 30s 305ms/step - loss: 0.0141 - acc: 0.9955 - val_loss: 0.3187 - val_acc: 0.9380\n",
            "Epoch 88/100\n",
            "100/100 [==============================] - 31s 307ms/step - loss: 0.0279 - acc: 0.9905 - val_loss: 0.2518 - val_acc: 0.9410\n",
            "Epoch 89/100\n",
            "100/100 [==============================] - 30s 305ms/step - loss: 0.0246 - acc: 0.9925 - val_loss: 0.2439 - val_acc: 0.9390\n",
            "Epoch 90/100\n",
            "100/100 [==============================] - 31s 307ms/step - loss: 0.0145 - acc: 0.9955 - val_loss: 0.2577 - val_acc: 0.9440\n",
            "Epoch 91/100\n",
            "100/100 [==============================] - 30s 305ms/step - loss: 0.0182 - acc: 0.9945 - val_loss: 0.2540 - val_acc: 0.9390\n",
            "Epoch 92/100\n",
            "100/100 [==============================] - 31s 306ms/step - loss: 0.0207 - acc: 0.9905 - val_loss: 0.2905 - val_acc: 0.9390\n",
            "Epoch 93/100\n",
            "100/100 [==============================] - 31s 307ms/step - loss: 0.0215 - acc: 0.9915 - val_loss: 0.2742 - val_acc: 0.9360\n",
            "Epoch 94/100\n",
            "100/100 [==============================] - 30s 304ms/step - loss: 0.0210 - acc: 0.9915 - val_loss: 0.2258 - val_acc: 0.9410\n",
            "Epoch 95/100\n",
            "100/100 [==============================] - 31s 305ms/step - loss: 0.0146 - acc: 0.9950 - val_loss: 0.2837 - val_acc: 0.9430\n",
            "Epoch 96/100\n",
            "100/100 [==============================] - 30s 304ms/step - loss: 0.0221 - acc: 0.9920 - val_loss: 0.2834 - val_acc: 0.9410\n",
            "Epoch 97/100\n",
            "100/100 [==============================] - 30s 305ms/step - loss: 0.0280 - acc: 0.9910 - val_loss: 0.3377 - val_acc: 0.9330\n",
            "Epoch 98/100\n",
            "100/100 [==============================] - 30s 305ms/step - loss: 0.0161 - acc: 0.9945 - val_loss: 0.2292 - val_acc: 0.9410\n",
            "Epoch 99/100\n",
            "100/100 [==============================] - 31s 305ms/step - loss: 0.0270 - acc: 0.9915 - val_loss: 0.2982 - val_acc: 0.9390\n",
            "Epoch 100/100\n",
            "100/100 [==============================] - 31s 307ms/step - loss: 0.0317 - acc: 0.9890 - val_loss: 0.2534 - val_acc: 0.9420\n"
          ],
          "name": "stdout"
        }
      ]
    },
    {
      "cell_type": "code",
      "metadata": {
        "id": "eD2gNe02w5J5"
      },
      "source": [
        "model.save('/content/drive/MyDrive/cats_and_dogs_small_4.h5')"
      ],
      "execution_count": null,
      "outputs": []
    },
    {
      "cell_type": "code",
      "metadata": {
        "colab": {
          "base_uri": "https://localhost:8080/",
          "height": 545
        },
        "id": "Rr7i01US8wlh",
        "outputId": "c390e382-7e41-4eb5-930d-cccf61ee4705"
      },
      "source": [
        "acc = history.history['acc']\n",
        "val_acc = history.history['val_acc']\n",
        "loss = history.history['loss']\n",
        "val_loss = history.history['val_loss']\n",
        "\n",
        "epochs = range(len(acc))\n",
        "\n",
        "plt.plot(epochs, acc, 'bo', label='Training acc')\n",
        "plt.plot(epochs, val_acc, 'b', label='Validation acc')\n",
        "plt.title('Training and validation accuracy')\n",
        "plt.legend()\n",
        "\n",
        "plt.figure()\n",
        "\n",
        "plt.plot(epochs, loss, 'bo', label='Training loss')\n",
        "plt.plot(epochs, val_loss, 'b', label='Validation loss')\n",
        "plt.title('Training and validation loss')\n",
        "plt.legend()\n",
        "\n",
        "plt.show()"
      ],
      "execution_count": null,
      "outputs": [
        {
          "output_type": "display_data",
          "data": {
            "image/png": "[encoded data removed]",
            "text/plain": [
              "<Figure size 432x288 with 1 Axes>"
            ]
          },
          "metadata": {
            "tags": [],
            "needs_background": "light"
          }
        },
        {
          "output_type": "display_data",
          "data": {
            "image/png": "[encoded data removed]",
            "text/plain": [
              "<Figure size 432x288 with 1 Axes>"
            ]
          },
          "metadata": {
            "tags": [],
            "needs_background": "light"
          }
        }
      ]
    },
    {
      "cell_type": "code",
      "metadata": {
        "colab": {
          "base_uri": "https://localhost:8080/",
          "height": 545
        },
        "id": "iX5kYDzd81JQ",
        "outputId": "44cdbe92-e8cb-4a8e-a9cf-41ea22bbfa21"
      },
      "source": [
        "def smooth_curve(points, factor=0.8):\n",
        "  smoothed_points = []\n",
        "  for point in points:\n",
        "    if smoothed_points:\n",
        "      previous = smoothed_points[-1]\n",
        "      smoothed_points.append(previous * factor + point * (1 - factor))\n",
        "    else:\n",
        "      smoothed_points.append(point)\n",
        "  return smoothed_points\n",
        "\n",
        "plt.plot(epochs,\n",
        "         smooth_curve(acc), 'bo', label='Smoothed training acc')\n",
        "plt.plot(epochs,\n",
        "         smooth_curve(val_acc), 'b', label='Smoothed validation acc')\n",
        "plt.title('Training and validation accuracy')\n",
        "plt.legend()\n",
        "\n",
        "plt.figure()\n",
        "\n",
        "plt.plot(epochs,\n",
        "         smooth_curve(loss), 'bo', label='Smoothed training loss')\n",
        "plt.plot(epochs,\n",
        "         smooth_curve(val_loss), 'b', label='Smoothed validation loss')\n",
        "plt.title('Training and validation loss')\n",
        "plt.legend()\n",
        "\n",
        "plt.show()"
      ],
      "execution_count": null,
      "outputs": [
        {
          "output_type": "display_data",
          "data": {
            "image/png": "[encoded data removed]",
            "text/plain": [
              "<Figure size 432x288 with 1 Axes>"
            ]
          },
          "metadata": {
            "tags": [],
            "needs_background": "light"
          }
        },
        {
          "output_type": "display_data",
          "data": {
            "image/png": "[encoded data removed]",
            "text/plain": [
              "<Figure size 432x288 with 1 Axes>"
            ]
          },
          "metadata": {
            "tags": [],
            "needs_background": "light"
          }
        }
      ]
    },
    {
      "cell_type": "code",
      "metadata": {
        "colab": {
          "base_uri": "https://localhost:8080/"
        },
        "id": "TWhcEwtl88We",
        "outputId": "111870c8-6100-47c6-a46b-efebe754a15f"
      },
      "source": [
        "test_generator = test_datagen.flow_from_directory(\n",
        "        test_dir,\n",
        "        target_size=(150, 150),\n",
        "        batch_size=20,\n",
        "        class_mode='binary')\n",
        "\n",
        "test_loss, test_acc = model.evaluate_generator(test_generator, steps=50)\n",
        "print('test acc:', test_acc)"
      ],
      "execution_count": null,
      "outputs": [
        {
          "output_type": "stream",
          "text": [
            "Found 1000 images belonging to 2 classes.\n",
            "WARNING:tensorflow:From <ipython-input-29-19f8443b6c42>:7: Model.evaluate_generator (from tensorflow.python.keras.engine.training) is deprecated and will be removed in a future version.\n",
            "Instructions for updating:\n",
            "Please use Model.evaluate, which supports generators.\n",
            "WARNING:tensorflow:sample_weight modes were coerced from\n",
            "  ...\n",
            "    to  \n",
            "  ['...']\n",
            "test acc: 0.939\n"
          ],
          "name": "stdout"
        }
      ]
    },
    {
      "cell_type": "code",
      "metadata": {
        "id": "kvFkJZW19BeK"
      },
      "source": [
        ""
      ],
      "execution_count": null,
      "outputs": []
    }
  ]
}